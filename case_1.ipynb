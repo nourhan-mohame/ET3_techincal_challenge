{
 "cells": [
  {
   "cell_type": "code",
   "execution_count": 31,
   "id": "ae8dd5b6",
   "metadata": {},
   "outputs": [],
   "source": [
    "import os\n",
    "import shutil\n",
    "import csv\n",
    "from datetime import datetime"
   ]
  },
  {
   "cell_type": "code",
   "execution_count": 34,
   "id": "4679d829",
   "metadata": {},
   "outputs": [],
   "source": [
    "def get_short_date(timestamp):\n",
    "    return datetime.fromtimestamp(timestamp).strftime('%Y-%m-%d')\n",
    "\n",
    "def get_size_with_unit(size):\n",
    "    size_units = ['B', 'KB', 'MB', 'GB', 'TB']\n",
    "    unit_index = 0\n",
    "    while size >= 1024 and unit_index < len(size_units) - 1:\n",
    "        size /= 1024\n",
    "        unit_index += 1\n",
    "    return f'{size:.2f} {size_units[unit_index]}'"
   ]
  },
  {
   "cell_type": "code",
   "execution_count": 35,
   "id": "316ece94",
   "metadata": {},
   "outputs": [],
   "source": [
    "input_folder = 'F:\\dairies\\dairies'\n",
    "output_folder = 'F:\\output_data'\n",
    "csv_file = 'output_report.csv'\n"
   ]
  },
  {
   "cell_type": "code",
   "execution_count": 36,
   "id": "ee406116",
   "metadata": {},
   "outputs": [],
   "source": [
    "if not os.path.exists(output_folder):\n",
    "    os.makedirs(output_folder)\n"
   ]
  },
  {
   "cell_type": "code",
   "execution_count": 37,
   "id": "c39828c9",
   "metadata": {},
   "outputs": [],
   "source": [
    "image_count = 0\n",
    "image_data = []\n"
   ]
  },
  {
   "cell_type": "code",
   "execution_count": 38,
   "id": "644c669e",
   "metadata": {},
   "outputs": [],
   "source": [
    "for filename in os.listdir(input_folder):\n",
    "    if filename.endswith(('.jpg', '.jpeg', '.png', '.gif')):\n",
    "        image_count += 1\n",
    "        input_path = os.path.join(input_folder, filename)\n",
    "        output_filename = f'image_{image_count}.jpg'\n",
    "        output_path = os.path.join(output_folder, output_filename)\n",
    "\n",
    "        shutil.copy2(input_path, output_path)\n",
    "\n",
    "        image_size = os.path.getsize(output_path)\n",
    "        modification_date = os.path.getmtime(output_path)\n",
    "        short_date = get_short_date(modification_date)\n",
    "        size_with_unit = get_size_with_unit(image_size)\n",
    "\n",
    "        image_data.append([output_filename, size_with_unit, short_date])\n"
   ]
  },
  {
   "cell_type": "code",
   "execution_count": 39,
   "id": "94c8c84c",
   "metadata": {},
   "outputs": [],
   "source": [
    "with open(csv_file, 'w', newline='') as csv_output:\n",
    "    csv_writer = csv.writer(csv_output)\n",
    "    csv_writer.writerow(['Image Name', 'Image Size', 'Last Modified Date'])\n",
    "    csv_writer.writerows(image_data)\n"
   ]
  },
  {
   "cell_type": "code",
   "execution_count": 40,
   "id": "26afdbdd",
   "metadata": {},
   "outputs": [
    {
     "name": "stdout",
     "output_type": "stream",
     "text": [
      "36 images processed and renamed. CSV report generated at output_report.csv\n"
     ]
    }
   ],
   "source": [
    "print(f'{image_count} images processed and renamed. CSV report generated at {csv_file}')\n"
   ]
  },
  {
   "cell_type": "code",
   "execution_count": null,
   "id": "8f29b431",
   "metadata": {},
   "outputs": [],
   "source": []
  }
 ],
 "metadata": {
  "kernelspec": {
   "display_name": "Python 3 (ipykernel)",
   "language": "python",
   "name": "python3"
  },
  "language_info": {
   "codemirror_mode": {
    "name": "ipython",
    "version": 3
   },
   "file_extension": ".py",
   "mimetype": "text/x-python",
   "name": "python",
   "nbconvert_exporter": "python",
   "pygments_lexer": "ipython3",
   "version": "3.10.9"
  }
 },
 "nbformat": 4,
 "nbformat_minor": 5
}
